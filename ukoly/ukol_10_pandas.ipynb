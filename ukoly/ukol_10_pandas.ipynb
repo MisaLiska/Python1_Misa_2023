{
 "cells": [
  {
   "attachments": {},
   "cell_type": "markdown",
   "metadata": {},
   "source": [
    "## ukol-10: Zaměstnanci a Projekty\n",
    "Úkol můžeš odevzdat buďto jako Jupyter Notebook .ipynb, nebo jako klasický program .py.\n",
    "\n",
    "### Zadání 1\n",
    "Uvažuj, že zpracováváš analýzu pro softwarovou firmu. Firma má kanceláře v Praze, Plzni a Liberci. Seznam zaměstnanců pro jednotlivé kanceláře najdeš v souborech zam_praha.csv, zam_plzeň.csv a zam_liberec.csv.\n",
    "\n",
    "Načti data o zaměstnancích z CSV souborů do tabulek (DataFrame). Ke každé tabulce přidej nový sloupec mesto, které bude obsahovat informaci o tom, ve kterém městě zaměstnanec pracuje."
   ]
  },
  {
   "cell_type": "code",
   "execution_count": 30,
   "metadata": {},
   "outputs": [
    {
     "data": {
      "text/html": [
       "<div>\n",
       "<style scoped>\n",
       "    .dataframe tbody tr th:only-of-type {\n",
       "        vertical-align: middle;\n",
       "    }\n",
       "\n",
       "    .dataframe tbody tr th {\n",
       "        vertical-align: top;\n",
       "    }\n",
       "\n",
       "    .dataframe thead th {\n",
       "        text-align: right;\n",
       "    }\n",
       "</style>\n",
       "<table border=\"1\" class=\"dataframe\">\n",
       "  <thead>\n",
       "    <tr style=\"text-align: right;\">\n",
       "      <th></th>\n",
       "      <th>jmeno</th>\n",
       "      <th>prijimeni</th>\n",
       "      <th>telefonni_cislo</th>\n",
       "      <th>cislo_zamestnance</th>\n",
       "      <th>mesto</th>\n",
       "    </tr>\n",
       "  </thead>\n",
       "  <tbody>\n",
       "    <tr>\n",
       "      <th>0</th>\n",
       "      <td>Brian</td>\n",
       "      <td>Hall</td>\n",
       "      <td>+421 949 656 098</td>\n",
       "      <td>30</td>\n",
       "      <td>Praha</td>\n",
       "    </tr>\n",
       "    <tr>\n",
       "      <th>1</th>\n",
       "      <td>Marta</td>\n",
       "      <td>Kolářová</td>\n",
       "      <td>730 456 163</td>\n",
       "      <td>32</td>\n",
       "      <td>Praha</td>\n",
       "    </tr>\n",
       "    <tr>\n",
       "      <th>2</th>\n",
       "      <td>John</td>\n",
       "      <td>Moravec</td>\n",
       "      <td>725 092 179</td>\n",
       "      <td>33</td>\n",
       "      <td>Praha</td>\n",
       "    </tr>\n",
       "    <tr>\n",
       "      <th>3</th>\n",
       "      <td>Dominika</td>\n",
       "      <td>Kopecká</td>\n",
       "      <td>722 747 626</td>\n",
       "      <td>34</td>\n",
       "      <td>Praha</td>\n",
       "    </tr>\n",
       "    <tr>\n",
       "      <th>4</th>\n",
       "      <td>Marcel</td>\n",
       "      <td>Hájek</td>\n",
       "      <td>+421 902 928 669</td>\n",
       "      <td>35</td>\n",
       "      <td>Praha</td>\n",
       "    </tr>\n",
       "  </tbody>\n",
       "</table>\n",
       "</div>"
      ],
      "text/plain": [
       "      jmeno prijimeni   telefonni_cislo  cislo_zamestnance  mesto\n",
       "0     Brian      Hall  +421 949 656 098                 30  Praha\n",
       "1     Marta  Kolářová       730 456 163                 32  Praha\n",
       "2      John   Moravec       725 092 179                 33  Praha\n",
       "3  Dominika   Kopecká       722 747 626                 34  Praha\n",
       "4    Marcel     Hájek  +421 902 928 669                 35  Praha"
      ]
     },
     "execution_count": 30,
     "metadata": {},
     "output_type": "execute_result"
    }
   ],
   "source": [
    "import pandas\n",
    "\n",
    "zam_praha = pandas.read_csv(\"zam_praha.csv\")\n",
    "zam_praha[\"mesto\"] = \"Praha\"\n",
    "zam_praha.head()"
   ]
  },
  {
   "cell_type": "code",
   "execution_count": 31,
   "metadata": {},
   "outputs": [
    {
     "data": {
      "text/html": [
       "<div>\n",
       "<style scoped>\n",
       "    .dataframe tbody tr th:only-of-type {\n",
       "        vertical-align: middle;\n",
       "    }\n",
       "\n",
       "    .dataframe tbody tr th {\n",
       "        vertical-align: top;\n",
       "    }\n",
       "\n",
       "    .dataframe thead th {\n",
       "        text-align: right;\n",
       "    }\n",
       "</style>\n",
       "<table border=\"1\" class=\"dataframe\">\n",
       "  <thead>\n",
       "    <tr style=\"text-align: right;\">\n",
       "      <th></th>\n",
       "      <th>jmeno</th>\n",
       "      <th>prijimeni</th>\n",
       "      <th>telefonni_cislo</th>\n",
       "      <th>cislo_zamestnance</th>\n",
       "      <th>mesto</th>\n",
       "    </tr>\n",
       "  </thead>\n",
       "  <tbody>\n",
       "    <tr>\n",
       "      <th>0</th>\n",
       "      <td>Stacy</td>\n",
       "      <td>Pospíšilová</td>\n",
       "      <td>727 293 880</td>\n",
       "      <td>3</td>\n",
       "      <td>Plzeň</td>\n",
       "    </tr>\n",
       "    <tr>\n",
       "      <th>1</th>\n",
       "      <td>Matěj</td>\n",
       "      <td>Král</td>\n",
       "      <td>770 787 377</td>\n",
       "      <td>6</td>\n",
       "      <td>Plzeň</td>\n",
       "    </tr>\n",
       "    <tr>\n",
       "      <th>2</th>\n",
       "      <td>Amanda</td>\n",
       "      <td>Wilson</td>\n",
       "      <td>+421 52 656 7231</td>\n",
       "      <td>7</td>\n",
       "      <td>Plzeň</td>\n",
       "    </tr>\n",
       "    <tr>\n",
       "      <th>3</th>\n",
       "      <td>Angel</td>\n",
       "      <td>Wilson</td>\n",
       "      <td>+421 52 135 2491</td>\n",
       "      <td>8</td>\n",
       "      <td>Plzeň</td>\n",
       "    </tr>\n",
       "    <tr>\n",
       "      <th>4</th>\n",
       "      <td>Jindřich</td>\n",
       "      <td>Howell</td>\n",
       "      <td>+421 39 043 0948</td>\n",
       "      <td>10</td>\n",
       "      <td>Plzeň</td>\n",
       "    </tr>\n",
       "  </tbody>\n",
       "</table>\n",
       "</div>"
      ],
      "text/plain": [
       "      jmeno    prijimeni   telefonni_cislo  cislo_zamestnance  mesto\n",
       "0     Stacy  Pospíšilová       727 293 880                  3  Plzeň\n",
       "1     Matěj         Král       770 787 377                  6  Plzeň\n",
       "2    Amanda       Wilson  +421 52 656 7231                  7  Plzeň\n",
       "3     Angel       Wilson  +421 52 135 2491                  8  Plzeň\n",
       "4  Jindřich       Howell  +421 39 043 0948                 10  Plzeň"
      ]
     },
     "execution_count": 31,
     "metadata": {},
     "output_type": "execute_result"
    }
   ],
   "source": [
    "zam_plzen = pandas.read_csv(\"zam_plzen.csv\")\n",
    "zam_plzen[\"mesto\"] = \"Plzeň\"\n",
    "zam_plzen.head()"
   ]
  },
  {
   "cell_type": "code",
   "execution_count": 32,
   "metadata": {},
   "outputs": [
    {
     "data": {
      "text/html": [
       "<div>\n",
       "<style scoped>\n",
       "    .dataframe tbody tr th:only-of-type {\n",
       "        vertical-align: middle;\n",
       "    }\n",
       "\n",
       "    .dataframe tbody tr th {\n",
       "        vertical-align: top;\n",
       "    }\n",
       "\n",
       "    .dataframe thead th {\n",
       "        text-align: right;\n",
       "    }\n",
       "</style>\n",
       "<table border=\"1\" class=\"dataframe\">\n",
       "  <thead>\n",
       "    <tr style=\"text-align: right;\">\n",
       "      <th></th>\n",
       "      <th>jmeno</th>\n",
       "      <th>prijimeni</th>\n",
       "      <th>telefonni_cislo</th>\n",
       "      <th>cislo_zamestnance</th>\n",
       "      <th>mesto</th>\n",
       "    </tr>\n",
       "  </thead>\n",
       "  <tbody>\n",
       "    <tr>\n",
       "      <th>0</th>\n",
       "      <td>Nela</td>\n",
       "      <td>Šťastná</td>\n",
       "      <td>728 454 176</td>\n",
       "      <td>83</td>\n",
       "      <td>Liberec</td>\n",
       "    </tr>\n",
       "    <tr>\n",
       "      <th>1</th>\n",
       "      <td>Heather</td>\n",
       "      <td>Marková</td>\n",
       "      <td>604 404 522</td>\n",
       "      <td>84</td>\n",
       "      <td>Liberec</td>\n",
       "    </tr>\n",
       "    <tr>\n",
       "      <th>2</th>\n",
       "      <td>Krista</td>\n",
       "      <td>Procházková</td>\n",
       "      <td>+421 50 444 5544</td>\n",
       "      <td>85</td>\n",
       "      <td>Liberec</td>\n",
       "    </tr>\n",
       "    <tr>\n",
       "      <th>3</th>\n",
       "      <td>Jennifer</td>\n",
       "      <td>Brown</td>\n",
       "      <td>775 545 190</td>\n",
       "      <td>86</td>\n",
       "      <td>Liberec</td>\n",
       "    </tr>\n",
       "    <tr>\n",
       "      <th>4</th>\n",
       "      <td>Ladislava</td>\n",
       "      <td>Blackwell</td>\n",
       "      <td>+421 913 487 200</td>\n",
       "      <td>87</td>\n",
       "      <td>Liberec</td>\n",
       "    </tr>\n",
       "  </tbody>\n",
       "</table>\n",
       "</div>"
      ],
      "text/plain": [
       "       jmeno    prijimeni   telefonni_cislo  cislo_zamestnance    mesto\n",
       "0       Nela      Šťastná       728 454 176                 83  Liberec\n",
       "1    Heather      Marková       604 404 522                 84  Liberec\n",
       "2     Krista  Procházková  +421 50 444 5544                 85  Liberec\n",
       "3   Jennifer        Brown       775 545 190                 86  Liberec\n",
       "4  Ladislava    Blackwell  +421 913 487 200                 87  Liberec"
      ]
     },
     "execution_count": 32,
     "metadata": {},
     "output_type": "execute_result"
    }
   ],
   "source": [
    "zam_liberec = pandas.read_csv(\"zam_liberec.csv\")\n",
    "zam_liberec[\"mesto\"] = \"Liberec\"\n",
    "zam_liberec.head()"
   ]
  },
  {
   "attachments": {},
   "cell_type": "markdown",
   "metadata": {},
   "source": [
    "Vytvoř novou tabulku zamestnanci a ulož do ní informace o všech zaměstnancích (operace concat)."
   ]
  },
  {
   "cell_type": "code",
   "execution_count": 33,
   "metadata": {},
   "outputs": [
    {
     "name": "stdout",
     "output_type": "stream",
     "text": [
      "<class 'pandas.core.frame.DataFrame'>\n",
      "RangeIndex: 56 entries, 0 to 55\n",
      "Data columns (total 5 columns):\n",
      " #   Column             Non-Null Count  Dtype \n",
      "---  ------             --------------  ----- \n",
      " 0   jmeno              56 non-null     object\n",
      " 1   prijimeni          56 non-null     object\n",
      " 2   telefonni_cislo    56 non-null     object\n",
      " 3   cislo_zamestnance  56 non-null     int64 \n",
      " 4   mesto              56 non-null     object\n",
      "dtypes: int64(1), object(4)\n",
      "memory usage: 2.3+ KB\n"
     ]
    }
   ],
   "source": [
    "zamestnanci = pandas.concat([zam_praha, zam_plzen, zam_liberec], ignore_index=True)\n",
    "zamestnanci.info()"
   ]
  },
  {
   "attachments": {},
   "cell_type": "markdown",
   "metadata": {},
   "source": [
    "Ze souboru platy_2021_02.csv načti platy zaměstnanců za únor 2021. Propoj tabulku (operace join) s platy a tabulku se zaměstnanci pomocí sloupce cislo_zamestnance."
   ]
  },
  {
   "cell_type": "code",
   "execution_count": 34,
   "metadata": {},
   "outputs": [
    {
     "data": {
      "text/html": [
       "<div>\n",
       "<style scoped>\n",
       "    .dataframe tbody tr th:only-of-type {\n",
       "        vertical-align: middle;\n",
       "    }\n",
       "\n",
       "    .dataframe tbody tr th {\n",
       "        vertical-align: top;\n",
       "    }\n",
       "\n",
       "    .dataframe thead th {\n",
       "        text-align: right;\n",
       "    }\n",
       "</style>\n",
       "<table border=\"1\" class=\"dataframe\">\n",
       "  <thead>\n",
       "    <tr style=\"text-align: right;\">\n",
       "      <th></th>\n",
       "      <th>cislo_zamestnance</th>\n",
       "      <th>plat</th>\n",
       "    </tr>\n",
       "  </thead>\n",
       "  <tbody>\n",
       "    <tr>\n",
       "      <th>0</th>\n",
       "      <td>3</td>\n",
       "      <td>54900.0</td>\n",
       "    </tr>\n",
       "    <tr>\n",
       "      <th>1</th>\n",
       "      <td>6</td>\n",
       "      <td>54800.0</td>\n",
       "    </tr>\n",
       "    <tr>\n",
       "      <th>2</th>\n",
       "      <td>7</td>\n",
       "      <td>36400.0</td>\n",
       "    </tr>\n",
       "    <tr>\n",
       "      <th>3</th>\n",
       "      <td>8</td>\n",
       "      <td>47900.0</td>\n",
       "    </tr>\n",
       "    <tr>\n",
       "      <th>4</th>\n",
       "      <td>16</td>\n",
       "      <td>34200.0</td>\n",
       "    </tr>\n",
       "  </tbody>\n",
       "</table>\n",
       "</div>"
      ],
      "text/plain": [
       "   cislo_zamestnance     plat\n",
       "0                  3  54900.0\n",
       "1                  6  54800.0\n",
       "2                  7  36400.0\n",
       "3                  8  47900.0\n",
       "4                 16  34200.0"
      ]
     },
     "execution_count": 34,
     "metadata": {},
     "output_type": "execute_result"
    }
   ],
   "source": [
    "platy = pandas.read_csv(\"platy_2021_02.csv\")\n",
    "platy.head()"
   ]
  },
  {
   "cell_type": "code",
   "execution_count": 35,
   "metadata": {},
   "outputs": [
    {
     "data": {
      "text/html": [
       "<div>\n",
       "<style scoped>\n",
       "    .dataframe tbody tr th:only-of-type {\n",
       "        vertical-align: middle;\n",
       "    }\n",
       "\n",
       "    .dataframe tbody tr th {\n",
       "        vertical-align: top;\n",
       "    }\n",
       "\n",
       "    .dataframe thead th {\n",
       "        text-align: right;\n",
       "    }\n",
       "</style>\n",
       "<table border=\"1\" class=\"dataframe\">\n",
       "  <thead>\n",
       "    <tr style=\"text-align: right;\">\n",
       "      <th></th>\n",
       "      <th>jmeno</th>\n",
       "      <th>prijimeni</th>\n",
       "      <th>telefonni_cislo</th>\n",
       "      <th>cislo_zamestnance</th>\n",
       "      <th>mesto</th>\n",
       "      <th>plat</th>\n",
       "    </tr>\n",
       "  </thead>\n",
       "  <tbody>\n",
       "    <tr>\n",
       "      <th>0</th>\n",
       "      <td>Brian</td>\n",
       "      <td>Hall</td>\n",
       "      <td>+421 949 656 098</td>\n",
       "      <td>30</td>\n",
       "      <td>Praha</td>\n",
       "      <td>33500.0</td>\n",
       "    </tr>\n",
       "    <tr>\n",
       "      <th>1</th>\n",
       "      <td>Marta</td>\n",
       "      <td>Kolářová</td>\n",
       "      <td>730 456 163</td>\n",
       "      <td>32</td>\n",
       "      <td>Praha</td>\n",
       "      <td>53000.0</td>\n",
       "    </tr>\n",
       "    <tr>\n",
       "      <th>2</th>\n",
       "      <td>John</td>\n",
       "      <td>Moravec</td>\n",
       "      <td>725 092 179</td>\n",
       "      <td>33</td>\n",
       "      <td>Praha</td>\n",
       "      <td>38400.0</td>\n",
       "    </tr>\n",
       "    <tr>\n",
       "      <th>3</th>\n",
       "      <td>Dominika</td>\n",
       "      <td>Kopecká</td>\n",
       "      <td>722 747 626</td>\n",
       "      <td>34</td>\n",
       "      <td>Praha</td>\n",
       "      <td>36800.0</td>\n",
       "    </tr>\n",
       "    <tr>\n",
       "      <th>4</th>\n",
       "      <td>Milada</td>\n",
       "      <td>Hernandez</td>\n",
       "      <td>773 373 704</td>\n",
       "      <td>38</td>\n",
       "      <td>Praha</td>\n",
       "      <td>32600.0</td>\n",
       "    </tr>\n",
       "  </tbody>\n",
       "</table>\n",
       "</div>"
      ],
      "text/plain": [
       "      jmeno  prijimeni   telefonni_cislo  cislo_zamestnance  mesto     plat\n",
       "0     Brian       Hall  +421 949 656 098                 30  Praha  33500.0\n",
       "1     Marta   Kolářová       730 456 163                 32  Praha  53000.0\n",
       "2      John    Moravec       725 092 179                 33  Praha  38400.0\n",
       "3  Dominika    Kopecká       722 747 626                 34  Praha  36800.0\n",
       "4    Milada  Hernandez       773 373 704                 38  Praha  32600.0"
      ]
     },
     "execution_count": 35,
     "metadata": {},
     "output_type": "execute_result"
    }
   ],
   "source": [
    "zamestnanci = pandas.merge(zamestnanci, platy, on=\"cislo_zamestnance\")\n",
    "zamestnanci.head()"
   ]
  },
  {
   "attachments": {},
   "cell_type": "markdown",
   "metadata": {},
   "source": [
    "Porovnej rozměry tabulek před spojením a po spojení. Pokud nemá některý zaměstnanec plat za únor, znamená to, že v naší firmě již nepracuje."
   ]
  },
  {
   "cell_type": "code",
   "execution_count": 36,
   "metadata": {},
   "outputs": [
    {
     "name": "stdout",
     "output_type": "stream",
     "text": [
      "<class 'pandas.core.frame.DataFrame'>\n",
      "RangeIndex: 43 entries, 0 to 42\n",
      "Data columns (total 6 columns):\n",
      " #   Column             Non-Null Count  Dtype  \n",
      "---  ------             --------------  -----  \n",
      " 0   jmeno              43 non-null     object \n",
      " 1   prijimeni          43 non-null     object \n",
      " 2   telefonni_cislo    43 non-null     object \n",
      " 3   cislo_zamestnance  43 non-null     int64  \n",
      " 4   mesto              43 non-null     object \n",
      " 5   plat               43 non-null     float64\n",
      "dtypes: float64(1), int64(1), object(4)\n",
      "memory usage: 2.1+ KB\n"
     ]
    }
   ],
   "source": [
    "zamestnanci.info()"
   ]
  },
  {
   "attachments": {},
   "cell_type": "markdown",
   "metadata": {},
   "source": [
    "Po sloučení chybí 13 řádků, čili pro 13 zaměstnanců není evidována mzda -> odešli z firmy."
   ]
  },
  {
   "attachments": {},
   "cell_type": "markdown",
   "metadata": {},
   "source": [
    "Spočti průměrný plat zaměstnanců v jednotlivých kancelářích."
   ]
  },
  {
   "cell_type": "code",
   "execution_count": 37,
   "metadata": {},
   "outputs": [
    {
     "data": {
      "text/plain": [
       "43295.2"
      ]
     },
     "execution_count": 37,
     "metadata": {},
     "output_type": "execute_result"
    }
   ],
   "source": [
    "prumerny_plat_praha = zamestnanci[zamestnanci[\"mesto\"] == \"Praha\"][\"plat\"].mean()\n",
    "prumerny_plat_praha.round(1)"
   ]
  },
  {
   "cell_type": "code",
   "execution_count": 38,
   "metadata": {},
   "outputs": [
    {
     "data": {
      "text/plain": [
       "44792.86"
      ]
     },
     "execution_count": 38,
     "metadata": {},
     "output_type": "execute_result"
    }
   ],
   "source": [
    "prumerny_plat_plzen = zamestnanci[zamestnanci[\"mesto\"] == \"Plzeň\"][\"plat\"].mean().round(2)\n",
    "prumerny_plat_plzen"
   ]
  },
  {
   "cell_type": "code",
   "execution_count": 39,
   "metadata": {},
   "outputs": [
    {
     "data": {
      "text/plain": [
       "43775.0"
      ]
     },
     "execution_count": 39,
     "metadata": {},
     "output_type": "execute_result"
    }
   ],
   "source": [
    "mzdy_liberec = zamestnanci[zamestnanci[\"mesto\"] == \"Liberec\"][\"plat\"]\n",
    "prumerny_plat_liberec = mzdy_liberec.sum() / mzdy_liberec.__len__()\n",
    "prumerny_plat_liberec.round()"
   ]
  },
  {
   "attachments": {},
   "cell_type": "markdown",
   "metadata": {},
   "source": [
    "\n",
    "### Zadání 2\n",
    "Pokračuj ve své práci pro softwarovou firmu. Ze souboru vykazy.csv načti informace o výkazech na projekty pro jednoho vybraného zákazníka.\n",
    "\n",
    "Načti data ze souboru a ulož je do tabulky."
   ]
  },
  {
   "attachments": {},
   "cell_type": "markdown",
   "metadata": {},
   "source": []
  },
  {
   "cell_type": "code",
   "execution_count": 40,
   "metadata": {},
   "outputs": [
    {
     "data": {
      "text/html": [
       "<div>\n",
       "<style scoped>\n",
       "    .dataframe tbody tr th:only-of-type {\n",
       "        vertical-align: middle;\n",
       "    }\n",
       "\n",
       "    .dataframe tbody tr th {\n",
       "        vertical-align: top;\n",
       "    }\n",
       "\n",
       "    .dataframe thead th {\n",
       "        text-align: right;\n",
       "    }\n",
       "</style>\n",
       "<table border=\"1\" class=\"dataframe\">\n",
       "  <thead>\n",
       "    <tr style=\"text-align: right;\">\n",
       "      <th></th>\n",
       "      <th>date</th>\n",
       "      <th>hours</th>\n",
       "      <th>project</th>\n",
       "      <th>emloyee_id</th>\n",
       "    </tr>\n",
       "  </thead>\n",
       "  <tbody>\n",
       "    <tr>\n",
       "      <th>0</th>\n",
       "      <td>2021-02-01</td>\n",
       "      <td>2.5</td>\n",
       "      <td>F30</td>\n",
       "      <td>13</td>\n",
       "    </tr>\n",
       "    <tr>\n",
       "      <th>1</th>\n",
       "      <td>2021-02-01</td>\n",
       "      <td>3.4</td>\n",
       "      <td>W05</td>\n",
       "      <td>70</td>\n",
       "    </tr>\n",
       "    <tr>\n",
       "      <th>2</th>\n",
       "      <td>2021-02-01</td>\n",
       "      <td>2.1</td>\n",
       "      <td>JL9</td>\n",
       "      <td>72</td>\n",
       "    </tr>\n",
       "    <tr>\n",
       "      <th>3</th>\n",
       "      <td>2021-02-01</td>\n",
       "      <td>5.2</td>\n",
       "      <td>F30</td>\n",
       "      <td>3</td>\n",
       "    </tr>\n",
       "    <tr>\n",
       "      <th>4</th>\n",
       "      <td>2021-02-01</td>\n",
       "      <td>2.4</td>\n",
       "      <td>TE1</td>\n",
       "      <td>54</td>\n",
       "    </tr>\n",
       "  </tbody>\n",
       "</table>\n",
       "</div>"
      ],
      "text/plain": [
       "         date  hours project  emloyee_id\n",
       "0  2021-02-01    2.5     F30          13\n",
       "1  2021-02-01    3.4     W05          70\n",
       "2  2021-02-01    2.1     JL9          72\n",
       "3  2021-02-01    5.2     F30           3\n",
       "4  2021-02-01    2.4     TE1          54"
      ]
     },
     "execution_count": 40,
     "metadata": {},
     "output_type": "execute_result"
    }
   ],
   "source": [
    "vykazy = pandas.read_csv(\"vykazy.csv\")\n",
    "vykazy.head()"
   ]
  },
  {
   "attachments": {},
   "cell_type": "markdown",
   "metadata": {},
   "source": [
    "Proveď agregaci a zjisti celkový počet vykázaných hodin za jednotlivé projekty."
   ]
  },
  {
   "cell_type": "code",
   "execution_count": 41,
   "metadata": {},
   "outputs": [
    {
     "data": {
      "text/plain": [
       "project\n",
       "F30    21.5\n",
       "JL9     2.1\n",
       "TE1    16.0\n",
       "W05    30.5\n",
       "YLI    31.0\n",
       "Name: hours, dtype: float64"
      ]
     },
     "execution_count": 41,
     "metadata": {},
     "output_type": "execute_result"
    }
   ],
   "source": [
    "vykazy.groupby(\"project\")[\"hours\"].sum()"
   ]
  },
  {
   "attachments": {},
   "cell_type": "markdown",
   "metadata": {},
   "source": [
    "### Nepovinný bonus 1\n",
    "Ulož do proměnné počet zaměstnanců, kteří v naší firmě již nepracují.\n",
    "V rámci úspory se IT oddělení rozhodlo prověřit licence přidělené zaměstnancům, kteří ve firmě již nepracují. Vytvoř samostatnou tabulku, která obsahuje jména zaměstnanců, kteří ve firmě již nepracují. Tabulku ulož do souboru CSV.\n",
    "\n",
    "### Nepovinný bonus 2\n",
    "Propoj tabulku s výkazy s tabulkou se zaměstnanci, kterou jsi vytvořil(a) v předchozím cvičení.\n",
    "\n",
    "Následně proveď statistiku vykázaných hodin za jednotlivé kanceláře, tj. spočítej celkový počet hodin vykázaný zaměstnanci jednotlivých kanceláří na projekty daného zákazníka."
   ]
  }
 ],
 "metadata": {
  "kernelspec": {
   "display_name": "Python 3",
   "language": "python",
   "name": "python3"
  },
  "language_info": {
   "codemirror_mode": {
    "name": "ipython",
    "version": 3
   },
   "file_extension": ".py",
   "mimetype": "text/x-python",
   "name": "python",
   "nbconvert_exporter": "python",
   "pygments_lexer": "ipython3",
   "version": "3.9.10"
  },
  "orig_nbformat": 4
 },
 "nbformat": 4,
 "nbformat_minor": 2
}
